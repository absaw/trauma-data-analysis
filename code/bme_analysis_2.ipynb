{
 "cells": [
  {
   "cell_type": "markdown",
   "metadata": {},
   "source": [
    "## Import Libraries"
   ]
  },
  {
   "cell_type": "code",
   "execution_count": 1,
   "metadata": {},
   "outputs": [
    {
     "name": "stdout",
     "output_type": "stream",
     "text": [
      "Intel MKL WARNING: Support of Intel(R) Streaming SIMD Extensions 4.2 (Intel(R) SSE4.2) enabled only processors has been deprecated. Intel oneAPI Math Kernel Library 2025.0 will require Intel(R) Advanced Vector Extensions (Intel(R) AVX) instructions.\n",
      "Intel MKL WARNING: Support of Intel(R) Streaming SIMD Extensions 4.2 (Intel(R) SSE4.2) enabled only processors has been deprecated. Intel oneAPI Math Kernel Library 2025.0 will require Intel(R) Advanced Vector Extensions (Intel(R) AVX) instructions.\n"
     ]
    }
   ],
   "source": [
    "import warnings\n",
    "warnings.filterwarnings(\"ignore\")\n",
    "import numpy as np\n",
    "import pandas as pd\n",
    "from sklearn.preprocessing import StandardScaler, LabelEncoder, OneHotEncoder\n",
    "from sklearn.model_selection import train_test_split\n",
    "import matplotlib.pyplot as plt\n",
    "import matplotlib\n",
    "matplotlib.rcParams['font.family'] = 'Arial'\n",
    "import seaborn as sns\n",
    "\n",
    "import xgboost as xgb\n",
    "from sklearn.metrics import accuracy_score, classification_report, confusion_matrix"
   ]
  },
  {
   "cell_type": "markdown",
   "metadata": {},
   "source": [
    "## Data Preprocessing"
   ]
  },
  {
   "cell_type": "code",
   "execution_count": 2,
   "metadata": {},
   "outputs": [],
   "source": [
    "df=pd.read_excel(\"bme_clinical_data.xlsx\",sheet_name=\"BME_Analysis_Data\",header=1)\n",
    "#We need to take only trauma patient data: upto 63 rows and all columns\n",
    "df=df.iloc[:63,1:] \n",
    "#Quantitative Columns\n",
    "quant_columns=['Age','Lysis at One Hour (%)','Delta OD','Turbidity T to Half Max (s)','T to Half Max (s)','Polym Rate (OD/s)','etoh','Lactate (mmol/L)','ddimer','fibrinogen','bicarb','base',\n",
    "'Temperature (°C)','Revised Trauma Score','triss','ais','prbc','ffp','platelet','cryo','plt','sat','rr']\n",
    "\n",
    "for col in quant_columns:\n",
    "    df[col].fillna(df[col].median(),inplace=True)\n",
    "\n",
    "#Zero Columns\n",
    "zero_columns=['airway_type','chesttube','ir','or','or_art','or_ven','Abbreviated Injury Scale Head','ais_face','ais_neck','ais_chest','ais_abd','ais_spine','ais_upper','ais_lower','ais_ext']\n",
    "for col in zero_columns:\n",
    "    df[col].fillna(0,inplace=True)\n",
    "\n",
    "#Categorical Columns\n",
    "cat_columns=['utox','Hemmorhage','arrest','blood24','mtp','dvt','pe','stroke','mi_new']\n",
    "for col in cat_columns:\n",
    "    df[col].fillna(df[col].mode()[0],inplace=True)\n",
    "\n",
    "#Drop Columns\n",
    "drop_columns=['Head AIS','Spine AIS','tash','thora','or_finding','injuries','mortality','hemorrhage','ISS']\n",
    "for col in drop_columns:\n",
    "    if col in df.columns:\n",
    "        df=df.drop(col,axis=1)\n",
    "\n",
    "# Now we need to encode the categorical columns before applying a ml model\n",
    "# Categorical Variables:\n",
    "# Assuming all variables are nominal(No particular order in the categories)\n",
    "# Inj  Mech*\t7\n",
    "# Inj Pattern*\t6\n",
    "encode_list=['Inj Mech','Inj Pattern']\n",
    "if encode_list in list(df.columns):\n",
    "    df=pd.get_dummies(df,columns=encode_list)\n",
    "df=df.astype(float)\n",
    "rep_dict={'Partial Thromboplastin Time[PTT] (s)':'Partial Thromboplastin Time (s)',\n",
    "          'Prothrombin Time[PT] (s)':'Prothrombin Time(s)',\n",
    "          'Injury Severity Score[ISS]':'Injury Severity Score'}\n",
    "df.rename(columns = rep_dict, inplace = True)\n",
    "#This will show if we have any columns with NaN/Null values\n",
    "isn=df.isnull().sum()\n",
    "for k,v in isn.items():\n",
    "    if v!=0:\n",
    "        print(k, v)"
   ]
  },
  {
   "cell_type": "code",
   "execution_count": 3,
   "metadata": {},
   "outputs": [
    {
     "name": "stdout",
     "output_type": "stream",
     "text": [
      "(63, 103)\n",
      "(63,)\n",
      "Train length 37\n",
      "Test length 26\n"
     ]
    }
   ],
   "source": [
    "\n",
    "X = df.drop('Mortality', axis=1)  # Features\n",
    "y = df['Mortality']  # Target variable\n",
    "print(X.shape)\n",
    "print(y.shape)\n",
    "X_train, X_test, y_train, y_test = train_test_split(X, y, test_size=0.4, random_state=1)\n",
    "print(\"Train length\",len(X_train))\n",
    "print(\"Test length\",len(X_test))\n",
    "#Train=37\n",
    "#Test=26\n",
    "#Traintestsplit function randomly splits the data into train and test, without maintaining any particular order"
   ]
  },
  {
   "cell_type": "code",
   "execution_count": 7,
   "metadata": {},
   "outputs": [],
   "source": [
    "def describe_df(df):\n",
    "    print(df.info(),\"\\n\")\n",
    "    print(df.isnull().sum(),\"\\n\")\n",
    "    print(df.head(1))\n",
    "    print(df.describe())\n",
    "# describe_df(df)"
   ]
  },
  {
   "cell_type": "markdown",
   "metadata": {},
   "source": [
    "## Supervised Learning"
   ]
  },
  {
   "cell_type": "code",
   "execution_count": 7,
   "metadata": {},
   "outputs": [
    {
     "name": "stdout",
     "output_type": "stream",
     "text": [
      "Accuracy: 0.85\n",
      "              precision    recall  f1-score   support\n",
      "\n",
      "         0.0       0.86      0.95      0.90        19\n",
      "         1.0       0.80      0.57      0.67         7\n",
      "\n",
      "    accuracy                           0.85        26\n",
      "   macro avg       0.83      0.76      0.78        26\n",
      "weighted avg       0.84      0.85      0.84        26\n",
      "\n"
     ]
    }
   ],
   "source": [
    "\n",
    "\n",
    "# Create an XGBoost classifier\n",
    "clf_xgb = xgb.XGBClassifier(\n",
    "    n_estimators=80,         # Number of boosting rounds (trees)\n",
    "    max_depth=6,               # Maximum depth of a tree\n",
    "    learning_rate=0.1,         # Step size shrinkage used in update to prevent overfitting\n",
    "    subsample=0.8,             # Fraction of samples used for training each boosting round\n",
    "    colsample_bytree=0.8,      # Fraction of features used for training each boosting round\n",
    "    objective='binary:logistic',  # Binary classification objective\n",
    "    random_state=1             # Random seed for reproducibility\n",
    ")\n",
    "# clf_xgb = xgb.XGBClassifier()\n",
    "clf_xgb.fit(X_train, y_train)\n",
    "# Make predictions\n",
    "y_pred_xgb = clf_xgb.predict(X_test)\n",
    "\n",
    "# Evaluate the performance\n",
    "acc_xgb = accuracy_score(y_test, y_pred_xgb)\n",
    "print(f'Accuracy: {acc_xgb:.2f}')\n",
    "print(classification_report(y_test, y_pred_xgb))"
   ]
  },
  {
   "cell_type": "code",
   "execution_count": 4,
   "metadata": {},
   "outputs": [
    {
     "name": "stdout",
     "output_type": "stream",
     "text": [
      "Accuracy: 0.81\n",
      "              precision    recall  f1-score   support\n",
      "\n",
      "         0.0       0.85      0.89      0.87        19\n",
      "         1.0       0.67      0.57      0.62         7\n",
      "\n",
      "    accuracy                           0.81        26\n",
      "   macro avg       0.76      0.73      0.74        26\n",
      "weighted avg       0.80      0.81      0.80        26\n",
      "\n"
     ]
    }
   ],
   "source": [
    "from sklearn.model_selection import GridSearchCV\n",
    "from xgboost import XGBClassifier\n",
    "from sklearn.metrics import make_scorer, accuracy_score\n",
    "\n",
    "# Define the parameter grid\n",
    "# param_grid = {\n",
    "#     'n_estimators': [50, 100, 150],\n",
    "#     'max_depth': [3, 6, 9],\n",
    "#     'learning_rate': [0.05, 0.1, 0.2],\n",
    "#     'subsample': [0.6, 0.8, 1.0],\n",
    "#     'colsample_bytree': [0.6, 0.8, 1.0],\n",
    "# }\n",
    "# param_grid = {\n",
    "#     'n_estimators': [100,90,80],\n",
    "#     'max_depth': [1,2,3, 4],\n",
    "#     'learning_rate': [0.05, 0.005, 0.02],\n",
    "#     'subsample': [0.6],\n",
    "#     'colsample_bytree': [0.3,0.5,0.6],\n",
    "# }\n",
    "\n",
    "params = {'colsample_bytree': 0.5, 'learning_rate': 0.05, 'max_depth': 10, 'n_estimators': 100, 'subsample': 0.6}\n",
    "# Create an XGBoost classifier\n",
    "clf_xgb = XGBClassifier(param_grid=params,objective='binary:logistic', random_state=1)\n",
    "clf_xgb.fit(X_train, y_train)\n",
    "\n",
    "# Define the grid search\n",
    "# grid_search = GridSearchCV(estimator=clf_xgb, param_grid=param_grid, scoring='accuracy', cv=3)\n",
    "\n",
    "# # Fit the grid search to the data\n",
    "# grid_search.fit(X_train, y_train)\n",
    "\n",
    "# # Get the best parameterss\n",
    "# best_params = grid_search.best_params_\n",
    "# print(\"Best Hyperparameters:\", best_params)\n",
    "# Use the best model for predictions\n",
    "# best_model = grid_search.best_estimator_\n",
    "# y_pred_xgb = best_model.predict(X_test)\n",
    "y_pred_xgb = clf_xgb.predict(X_test)\n",
    "\n",
    "# Evaluate the performance\n",
    "acc_xgb = accuracy_score(y_test, y_pred_xgb)\n",
    "print(f'Accuracy: {acc_xgb:.2f}')\n",
    "print(classification_report(y_test, y_pred_xgb))\n"
   ]
  },
  {
   "cell_type": "markdown",
   "metadata": {},
   "source": [
    "Best Hyperparameters: {'colsample_bytree': 0.6, 'learning_rate': 0.05, 'max_depth': 3, 'n_estimators': 100, 'subsample': 0.6}\n",
    "Accuracy: 0.88"
   ]
  },
  {
   "cell_type": "code",
   "execution_count": 8,
   "metadata": {},
   "outputs": [
    {
     "name": "stdout",
     "output_type": "stream",
     "text": [
      "Cross-Validation Scores: [0.625      0.875      0.71428571 0.85714286 0.71428571]\n",
      "Mean CV Score: 0.7571428571428572\n",
      "Test Accuracy: 0.8461538461538461\n",
      "Train Accuracy: 1.0\n"
     ]
    }
   ],
   "source": [
    "#Accuracy Scores\n",
    "from sklearn.model_selection import cross_val_score\n",
    "warnings.filterwarnings(\"ignore\")\n",
    "# Example of cross-validation\n",
    "cv_scores = cross_val_score(clf_xgb, X_train, y_train, cv=5)\n",
    "print(f'Cross-Validation Scores: {cv_scores}')\n",
    "print(f'Mean CV Score: {np.mean(cv_scores)}')\n",
    "# Example of evaluating on a test set\n",
    "test_acc = clf_xgb.score(X_test, y_test)\n",
    "print(f'Test Accuracy: {test_acc}')\n",
    "train_acc = clf_xgb.score(X_train, y_train)\n",
    "print(f'Train Accuracy: {train_acc}')\n",
    "\n"
   ]
  },
  {
   "cell_type": "code",
   "execution_count": 10,
   "metadata": {},
   "outputs": [
    {
     "data": {
      "image/png": "[encoded data removed]",
      "text/plain": [
       "<Figure size 400x300 with 1 Axes>"
      ]
     },
     "metadata": {},
     "output_type": "display_data"
    }
   ],
   "source": [
    "\n",
    "\n",
    "\n",
    "# Create a confusion matrix\n",
    "cm_xgb = confusion_matrix(y_test, y_pred_xgb)\n",
    "\n",
    "# Create a heatmap for the confusion matrix\n",
    "plt.figure(figsize=(4, 3))\n",
    "sns.heatmap(cm_xgb, annot=True, fmt='d', cmap='Blues', cbar=False,\n",
    "            xticklabels=['Predicted 0', 'Predicted 1'],\n",
    "            yticklabels=['Actual 0', 'Actual 1'])\n",
    "plt.xlabel('Predicted')\n",
    "plt.ylabel('Actual')\n",
    "plt.title('Confusion Matrix (XGBoost)')\n",
    "plt.show()\n"
   ]
  },
  {
   "cell_type": "code",
   "execution_count": 11,
   "metadata": {},
   "outputs": [
    {
     "data": {
      "text/html": [
       "<style>#sk-container-id-1 {color: black;background-color: white;}#sk-container-id-1 pre{padding: 0;}#sk-container-id-1 div.sk-toggleable {background-color: white;}#sk-container-id-1 label.sk-toggleable__label {cursor: pointer;display: block;width: 100%;margin-bottom: 0;padding: 0.3em;box-sizing: border-box;text-align: center;}#sk-container-id-1 label.sk-toggleable__label-arrow:before {content: \"▸\";float: left;margin-right: 0.25em;color: #696969;}#sk-container-id-1 label.sk-toggleable__label-arrow:hover:before {color: black;}#sk-container-id-1 div.sk-estimator:hover label.sk-toggleable__label-arrow:before {color: black;}#sk-container-id-1 div.sk-toggleable__content {max-height: 0;max-width: 0;overflow: hidden;text-align: left;background-color: #f0f8ff;}#sk-container-id-1 div.sk-toggleable__content pre {margin: 0.2em;color: black;border-radius: 0.25em;background-color: #f0f8ff;}#sk-container-id-1 input.sk-toggleable__control:checked~div.sk-toggleable__content {max-height: 200px;max-width: 100%;overflow: auto;}#sk-container-id-1 input.sk-toggleable__control:checked~label.sk-toggleable__label-arrow:before {content: \"▾\";}#sk-container-id-1 div.sk-estimator input.sk-toggleable__control:checked~label.sk-toggleable__label {background-color: #d4ebff;}#sk-container-id-1 div.sk-label input.sk-toggleable__control:checked~label.sk-toggleable__label {background-color: #d4ebff;}#sk-container-id-1 input.sk-hidden--visually {border: 0;clip: rect(1px 1px 1px 1px);clip: rect(1px, 1px, 1px, 1px);height: 1px;margin: -1px;overflow: hidden;padding: 0;position: absolute;width: 1px;}#sk-container-id-1 div.sk-estimator {font-family: monospace;background-color: #f0f8ff;border: 1px dotted black;border-radius: 0.25em;box-sizing: border-box;margin-bottom: 0.5em;}#sk-container-id-1 div.sk-estimator:hover {background-color: #d4ebff;}#sk-container-id-1 div.sk-parallel-item::after {content: \"\";width: 100%;border-bottom: 1px solid gray;flex-grow: 1;}#sk-container-id-1 div.sk-label:hover label.sk-toggleable__label {background-color: #d4ebff;}#sk-container-id-1 div.sk-serial::before {content: \"\";position: absolute;border-left: 1px solid gray;box-sizing: border-box;top: 0;bottom: 0;left: 50%;z-index: 0;}#sk-container-id-1 div.sk-serial {display: flex;flex-direction: column;align-items: center;background-color: white;padding-right: 0.2em;padding-left: 0.2em;position: relative;}#sk-container-id-1 div.sk-item {position: relative;z-index: 1;}#sk-container-id-1 div.sk-parallel {display: flex;align-items: stretch;justify-content: center;background-color: white;position: relative;}#sk-container-id-1 div.sk-item::before, #sk-container-id-1 div.sk-parallel-item::before {content: \"\";position: absolute;border-left: 1px solid gray;box-sizing: border-box;top: 0;bottom: 0;left: 50%;z-index: -1;}#sk-container-id-1 div.sk-parallel-item {display: flex;flex-direction: column;z-index: 1;position: relative;background-color: white;}#sk-container-id-1 div.sk-parallel-item:first-child::after {align-self: flex-end;width: 50%;}#sk-container-id-1 div.sk-parallel-item:last-child::after {align-self: flex-start;width: 50%;}#sk-container-id-1 div.sk-parallel-item:only-child::after {width: 0;}#sk-container-id-1 div.sk-dashed-wrapped {border: 1px dashed gray;margin: 0 0.4em 0.5em 0.4em;box-sizing: border-box;padding-bottom: 0.4em;background-color: white;}#sk-container-id-1 div.sk-label label {font-family: monospace;font-weight: bold;display: inline-block;line-height: 1.2em;}#sk-container-id-1 div.sk-label-container {text-align: center;}#sk-container-id-1 div.sk-container {/* jupyter's `normalize.less` sets `[hidden] { display: none; }` but bootstrap.min.css set `[hidden] { display: none !important; }` so we also need the `!important` here to be able to override the default hidden behavior on the sphinx rendered scikit-learn.org. See: https://github.com/scikit-learn/scikit-learn/issues/21755 */display: inline-block !important;position: relative;}#sk-container-id-1 div.sk-text-repr-fallback {display: none;}</style><div id=\"sk-container-id-1\" class=\"sk-top-container\"><div class=\"sk-text-repr-fallback\"><pre>GradientBoostingClassifier()</pre><b>In a Jupyter environment, please rerun this cell to show the HTML representation or trust the notebook. <br />On GitHub, the HTML representation is unable to render, please try loading this page with nbviewer.org.</b></div><div class=\"sk-container\" hidden><div class=\"sk-item\"><div class=\"sk-estimator sk-toggleable\"><input class=\"sk-toggleable__control sk-hidden--visually\" id=\"sk-estimator-id-1\" type=\"checkbox\" checked><label for=\"sk-estimator-id-1\" class=\"sk-toggleable__label sk-toggleable__label-arrow\">GradientBoostingClassifier</label><div class=\"sk-toggleable__content\"><pre>GradientBoostingClassifier()</pre></div></div></div></div></div>"
      ],
      "text/plain": [
       "GradientBoostingClassifier()"
      ]
     },
     "execution_count": 11,
     "metadata": {},
     "output_type": "execute_result"
    }
   ],
   "source": [
    "from sklearn.ensemble import GradientBoostingClassifier\n",
    "\n",
    "gbc_model = GradientBoostingClassifier()\n",
    "gbc_model.fit(X_train, y_train)\n"
   ]
  },
  {
   "cell_type": "code",
   "execution_count": 12,
   "metadata": {},
   "outputs": [
    {
     "name": "stdout",
     "output_type": "stream",
     "text": [
      "Accuracy: 0.65\n",
      "              precision    recall  f1-score   support\n",
      "\n",
      "         0.0       0.78      0.74      0.76        19\n",
      "         1.0       0.38      0.43      0.40         7\n",
      "\n",
      "    accuracy                           0.65        26\n",
      "   macro avg       0.58      0.58      0.58        26\n",
      "weighted avg       0.67      0.65      0.66        26\n",
      "\n"
     ]
    },
    {
     "data": {
      "image/png": "[encoded data removed]",
      "text/plain": [
       "<Figure size 400x300 with 1 Axes>"
      ]
     },
     "metadata": {},
     "output_type": "display_data"
    }
   ],
   "source": [
    "# Make predictions\n",
    "y_pred_gbc = gbc_model.predict(X_test)\n",
    "\n",
    "# Evaluate the performance\n",
    "acc_gbc = accuracy_score(y_test, y_pred_gbc)\n",
    "print(f'Accuracy: {acc_gbc:.2f}')\n",
    "print(classification_report(y_test, y_pred_gbc))\n",
    "\n",
    "# Create a confusion matrix\n",
    "cm_gbc = confusion_matrix(y_test, y_pred_gbc)\n",
    "\n",
    "# Create a heatmap for the confusion matrix\n",
    "plt.figure(figsize=(4, 3))\n",
    "sns.heatmap(cm_gbc, annot=True, fmt='d', cmap='Blues', cbar=False,\n",
    "            xticklabels=['Predicted 0', 'Predicted 1'],\n",
    "            yticklabels=['Actual 0', 'Actual 1'])\n",
    "plt.xlabel('Predicted')\n",
    "plt.ylabel('Actual')\n",
    "plt.title('Confusion Matrix (XGBoost)')\n",
    "plt.show()\n"
   ]
  },
  {
   "cell_type": "code",
   "execution_count": 19,
   "metadata": {},
   "outputs": [
    {
     "name": "stdout",
     "output_type": "stream",
     "text": [
      "Cross-Validation Scores: [0.69230769 0.83333333 0.5       ]\n",
      "Mean CV Score: 0.6752136752136751\n",
      "Test Accuracy: 0.6538461538461539\n",
      "Train Accuracy: 1.0\n"
     ]
    }
   ],
   "source": [
    "#Accuracy Scores\n",
    "from sklearn.model_selection import cross_val_score\n",
    "warnings.filterwarnings(\"ignore\")\n",
    "# Example of cross-validation\n",
    "cv_scores = cross_val_score(gbc_model, X_train, y_train, cv=3)\n",
    "print(f'Cross-Validation Scores: {cv_scores}')\n",
    "print(f'Mean CV Score: {np.mean(cv_scores)}')\n",
    "# Example of evaluating on a test set\n",
    "test_acc = gbc_model.score(X_test, y_test)\n",
    "print(f'Test Accuracy: {test_acc}')\n",
    "train_acc = gbc_model.score(X_train, y_train)\n",
    "print(f'Train Accuracy: {train_acc}')\n",
    "\n"
   ]
  },
  {
   "cell_type": "code",
   "execution_count": 13,
   "metadata": {},
   "outputs": [],
   "source": [
    "# from sklearn.neighbors import KNeighborsClassifier\n",
    "\n",
    "# gbc_model = KNeighborsClassifier()\n",
    "# gbc_model.fit(X_train, y_train)\n"
   ]
  },
  {
   "cell_type": "code",
   "execution_count": 14,
   "metadata": {},
   "outputs": [],
   "source": [
    "# for col in X.columns:\n",
    "#     if '[' in col or ']' in col or '<' in col:\n",
    "#         print(col)"
   ]
  }
 ],
 "metadata": {
  "kernelspec": {
   "display_name": "env_1",
   "language": "python",
   "name": "python3"
  },
  "language_info": {
   "codemirror_mode": {
    "name": "ipython",
    "version": 3
   },
   "file_extension": ".py",
   "mimetype": "text/x-python",
   "name": "python",
   "nbconvert_exporter": "python",
   "pygments_lexer": "ipython3",
   "version": "3.11.5"
  }
 },
 "nbformat": 4,
 "nbformat_minor": 2
}
